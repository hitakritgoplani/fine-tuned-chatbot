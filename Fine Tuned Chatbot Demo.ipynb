{
  "nbformat": 4,
  "nbformat_minor": 0,
  "metadata": {
    "colab": {
      "provenance": []
    },
    "kernelspec": {
      "name": "python3",
      "display_name": "Python 3"
    },
    "language_info": {
      "name": "python"
    }
  },
  "cells": [
    {
      "cell_type": "code",
      "source": [
        "!pip install -q google-generativeai"
      ],
      "metadata": {
        "id": "XFSmlyW3T8bc"
      },
      "execution_count": null,
      "outputs": []
    },
    {
      "cell_type": "code",
      "source": [
        "import os\n",
        "if 'COLAB_RELEASE_TAG' in os.environ:\n",
        "  from google.colab import userdata\n",
        "  import pathlib\n",
        "  pathlib.Path('client_secret.json').write_text(userdata.get('CLIENT_SECRET'))\n",
        "\n",
        "  # Use `--no-browser` in colab\n",
        "  !gcloud auth application-default login --no-browser --client-id-file client_secret.json --scopes='https://www.googleapis.com/auth/cloud-platform,https://www.googleapis.com/auth/generative-language.tuning'\n",
        "else:\n",
        "  !gcloud auth application-default login --client-id-file \\\n",
        "  client_secret.json --scopes=\\\n",
        "  'https://www.googleapis.com/auth/cloud-platform,\\\n",
        "  https://www.googleapis.com/auth/generative-language.tuning'"
      ],
      "metadata": {
        "colab": {
          "base_uri": "https://localhost:8080/"
        },
        "id": "gO__H1QKZtBM",
        "outputId": "55acaf1f-3103-4bff-a159-aa5418cbddd6"
      },
      "execution_count": null,
      "outputs": [
        {
          "output_type": "stream",
          "name": "stdout",
          "text": [
            "You are authorizing client libraries without access to a web browser. Please run the following command on a machine with a web browser and copy its output back here. Make sure the installed gcloud version is 372.0.0 or newer.\n",
            "\n",
            "gcloud auth application-default login --remote-bootstrap=\"https://accounts.google.com/o/oauth2/auth?response_type=code&client_id=827965094459-c57kj0k217dt3kj1ophe4nci9apu2pmd.apps.googleusercontent.com&scope=https%3A%2F%2Fwww.googleapis.com%2Fauth%2Fcloud-platform+https%3A%2F%2Fwww.googleapis.com%2Fauth%2Fgenerative-language.tuning&state=uTo0EUAINBt6UObtOlW8Y7MwJXjCKW&access_type=offline&code_challenge=iphTU4yZZdBgaKmu_xIMKddJ7cgd6JG4vcMJ8-OyNhY&code_challenge_method=S256&token_usage=remote\"\n",
            "\n",
            "\n",
            "Enter the output of the above command: https://localhost:8085/?state=uTo0EUAINBt6UObtOlW8Y7MwJXjCKW&code=4/0AeaYSHAXk23pivK0XhsBFo0WJyxLpSuyMrznl22_DMCG0tt4jOTcrT9Ly682bAQy5iKJQA&scope=https://www.googleapis.com/auth/cloud-platform%20https://www.googleapis.com/auth/generative-language.tuning\n",
            "\n",
            "Credentials saved to file: [/content/.config/application_default_credentials.json]\n",
            "\n",
            "These credentials will be used by any library that requests Application Default Credentials (ADC).\n"
          ]
        }
      ]
    },
    {
      "cell_type": "code",
      "source": [
        "import google.generativeai as genai"
      ],
      "metadata": {
        "id": "Jm_bpqENolCb"
      },
      "execution_count": null,
      "outputs": []
    },
    {
      "cell_type": "code",
      "source": [
        "model = genai.GenerativeModel(model_name='tunedModels/trishoolbakery-97kyo0ms1ws4')"
      ],
      "metadata": {
        "id": "a_3V_sK2hRoH"
      },
      "execution_count": null,
      "outputs": []
    },
    {
      "cell_type": "code",
      "source": [
        "text = \"where is trishool bakery and what it is famous for?\"\n",
        "res = model.generate_content(text)\n",
        "print(res.text)"
      ],
      "metadata": {
        "colab": {
          "base_uri": "https://localhost:8080/"
        },
        "id": "lgpIGCjdha8X",
        "outputId": "d5f11697-5d51-4c54-fe23-0df1cf32e876"
      },
      "execution_count": null,
      "outputs": [
        {
          "output_type": "stream",
          "name": "stdout",
          "text": [
            "Mall Road, Shimla and its pastries.\n"
          ]
        }
      ]
    },
    {
      "cell_type": "code",
      "source": [
        "text = \"what is the best product here in trishool bakery\"\n",
        "res = model.generate_content(text)\n",
        "print(res.text)"
      ],
      "metadata": {
        "colab": {
          "base_uri": "https://localhost:8080/"
        },
        "id": "cseE-FuVhtf2",
        "outputId": "eaf1f5ae-4bd9-4aef-bb32-3ebd31350e88"
      },
      "execution_count": null,
      "outputs": [
        {
          "output_type": "stream",
          "name": "stdout",
          "text": [
            "the chocolate eclair.\n"
          ]
        }
      ]
    },
    {
      "cell_type": "code",
      "source": [
        "text = \"best time to visit trishool bakery\"\n",
        "res = model.generate_content(text)\n",
        "print(res.text)"
      ],
      "metadata": {
        "colab": {
          "base_uri": "https://localhost:8080/"
        },
        "id": "ABSJ3O76iOTh",
        "outputId": "cef94ec6-f83f-4ff8-9172-df7fd6be7473"
      },
      "execution_count": null,
      "outputs": [
        {
          "output_type": "stream",
          "name": "stdout",
          "text": [
            "During the evening.\n"
          ]
        }
      ]
    },
    {
      "cell_type": "code",
      "source": [
        "text = \"how is the chicken pattice here\"\n",
        "res = model.generate_content(text)\n",
        "print(res.text)"
      ],
      "metadata": {
        "colab": {
          "base_uri": "https://localhost:8080/"
        },
        "id": "3MY32bXriTOe",
        "outputId": "48f6a75a-45b5-4950-e070-05ceca561e46"
      },
      "execution_count": null,
      "outputs": [
        {
          "output_type": "stream",
          "name": "stdout",
          "text": [
            "It's crispy on the outside and juicy on the inside.\n"
          ]
        }
      ]
    },
    {
      "cell_type": "code",
      "source": [
        "text = \"who made trishool bakery famous\"\n",
        "res = model.generate_content(text)\n",
        "print(res.text)"
      ],
      "metadata": {
        "colab": {
          "base_uri": "https://localhost:8080/"
        },
        "id": "0NFEyoPKicfm",
        "outputId": "cb4e4b5f-1f51-49bd-f0a3-331a7bf8374a"
      },
      "execution_count": null,
      "outputs": [
        {
          "output_type": "stream",
          "name": "stdout",
          "text": [
            "Preity Zinta\n"
          ]
        }
      ]
    },
    {
      "cell_type": "code",
      "source": [
        "text = \"give me best 5 products of Trishool Bakery, include some savories too\"\n",
        "res = model.generate_content(text)\n",
        "print(res.text)"
      ],
      "metadata": {
        "colab": {
          "base_uri": "https://localhost:8080/"
        },
        "id": "NYhWQNfxinGa",
        "outputId": "6a847724-97a2-4970-c72f-2ac28e6213cd"
      },
      "execution_count": null,
      "outputs": [
        {
          "output_type": "stream",
          "name": "stdout",
          "text": [
            "1. Chocolate Eclair: A classic pastry with a crisp shell filled with rich chocolate custard and topped with chocolate ganache.\n",
            "2. Blueberry Cheesecake: A creamy cheesecake with a graham cracker crust and topped with a blueberry compote.\n",
            "3. Chicken Patty: A flaky pastry filled with tender chicken, vegetables, and a creamy sauce.\n",
            "4. Vegetable Quiche: A savory tart with a buttery crust and filled with a mixture of vegetables, eggs, and cheese.\n",
            "5. Chocolate Chip Scone: A warm and fluffy scone studded with chocolate chips and a hint of cinnamon.\n"
          ]
        }
      ]
    },
    {
      "cell_type": "code",
      "source": [
        "text = \"how much crowded is trishool bakery during the early evening\"\n",
        "res = model.generate_content(text)\n",
        "print(res.text)"
      ],
      "metadata": {
        "colab": {
          "base_uri": "https://localhost:8080/"
        },
        "id": "TpuZI2HBkuD6",
        "outputId": "571b0ad2-fa23-4d79-9b64-15ddbb936525"
      },
      "execution_count": null,
      "outputs": [
        {
          "output_type": "stream",
          "name": "stdout",
          "text": [
            "It's bustling.\n"
          ]
        }
      ]
    },
    {
      "cell_type": "code",
      "source": [
        "text = \"how to reach trishool bakery\"\n",
        "res = model.generate_content(text)\n",
        "print(res.text)"
      ],
      "metadata": {
        "colab": {
          "base_uri": "https://localhost:8080/"
        },
        "id": "qv1u_zcflpXK",
        "outputId": "3bae9094-2122-4b2d-a49b-793316f3b714"
      },
      "execution_count": null,
      "outputs": [
        {
          "output_type": "stream",
          "name": "stdout",
          "text": [
            "**By Public Transportation:**\n",
            "\n",
            "* Take the Shimla Kalka Railway (toy train) to Shimla Railway Station.\n",
            "* From the station, take a taxi or auto-rickshaw to Mall Road.\n",
            "* Walk along Mall Road towards Scandal Point.\n",
            "* Trishool Bakery is located on the right side of the road, just before Scandal Point.\n",
            "\n",
            "**By Private Vehicle:**\n",
            "\n",
            "* Drive to Shimla and park your vehicle near Mall Road.\n",
            "* Walk along Mall Road towards Scandal Point.\n",
            "* Trishool Bakery is located on the right side of the road, just before Scandal Point.\n",
            "\n",
            "**By Foot:**\n",
            "\n",
            "* Start from Shimla Railway Station.\n",
            "* Walk along Mall Road towards Scandal Point.\n",
            "* Trishool Bakery is located on the right side of the road, just before Scandal Point.\n"
          ]
        }
      ]
    },
    {
      "cell_type": "code",
      "source": [
        "text = \"What is said to be freshly baked at Trishool Bakery?\"\n",
        "res = model.generate_content(text)\n",
        "print(res.text)"
      ],
      "metadata": {
        "id": "EhkxaESIl164"
      },
      "execution_count": null,
      "outputs": []
    },
    {
      "cell_type": "code",
      "source": [
        "text = \"how to differentiate between veg and non veg pastry at trishool bakery\"\n",
        "res = model.generate_content(text)\n",
        "print(res.text)"
      ],
      "metadata": {
        "colab": {
          "base_uri": "https://localhost:8080/"
        },
        "id": "qRzOs2YqmoZL",
        "outputId": "8ba4ffa4-4eb7-44e9-cf8f-f8fcf5ae54af"
      },
      "execution_count": null,
      "outputs": [
        {
          "output_type": "stream",
          "name": "stdout",
          "text": [
            "Look for the green and red dots on the pastry. Green dot indicates veg pastry and red dot indicates non veg pastry.\n"
          ]
        }
      ]
    },
    {
      "cell_type": "code",
      "source": [
        "text = \"how is the vanilla sponge cake  at trishool bakery.\"\n",
        "res = model.generate_content(text)\n",
        "print(res.text)"
      ],
      "metadata": {
        "colab": {
          "base_uri": "https://localhost:8080/"
        },
        "id": "QGetv2k_nJRB",
        "outputId": "3887f097-f18d-43c7-91d5-e5c154042757"
      },
      "execution_count": null,
      "outputs": [
        {
          "output_type": "stream",
          "name": "stdout",
          "text": [
            "It's fluffy and moist, with a delicate vanilla flavor.\n"
          ]
        }
      ]
    },
    {
      "cell_type": "code",
      "source": [
        "text = \"closing time of trishool bakery.\"\n",
        "res = model.generate_content(text)\n",
        "print(res.text)"
      ],
      "metadata": {
        "colab": {
          "base_uri": "https://localhost:8080/"
        },
        "id": "yPeKTmyqnkrX",
        "outputId": "f20b7007-531c-4b0d-f21f-96999dba1365"
      },
      "execution_count": null,
      "outputs": [
        {
          "output_type": "stream",
          "name": "stdout",
          "text": [
            "10:00 PM\n"
          ]
        }
      ]
    },
    {
      "cell_type": "code",
      "source": [
        "text = \"kya vanilla sponge cake trishool bakery ka veg hai ki non veg hai\"\n",
        "res = model.generate_content(text)\n",
        "print(res.text)"
      ],
      "metadata": {
        "colab": {
          "base_uri": "https://localhost:8080/"
        },
        "id": "eSX78LUXoDHL",
        "outputId": "6e235734-bed0-4bb2-fc6f-b62128979244"
      },
      "execution_count": null,
      "outputs": [
        {
          "output_type": "stream",
          "name": "stdout",
          "text": [
            "वेज\n"
          ]
        }
      ]
    },
    {
      "cell_type": "code",
      "source": [
        "text = \"what should we do if we get a non veg cake while we asked for veg cake at trishool bakery\"\n",
        "res = model.generate_content(text)\n",
        "print(res.text)"
      ],
      "metadata": {
        "colab": {
          "base_uri": "https://localhost:8080/"
        },
        "id": "l9pycXt5ofYp",
        "outputId": "3c22c461-ec13-4b0c-b649-bab5d6a19531"
      },
      "execution_count": null,
      "outputs": [
        {
          "output_type": "stream",
          "name": "stdout",
          "text": [
            "* **Inform the staff immediately.** Let them know that you received a non-veg cake instead of the veg cake you ordered.\n",
            "* **Be polite but firm.** Explain that you're a vegetarian and cannot consume non-veg items.\n",
            "* **Request a replacement cake.** Ask for a fresh veg cake to be prepared and delivered to you.\n",
            "* **Provide evidence if possible.** If you have a photo or receipt of your order, show it to the staff as proof.\n",
            "* **Be patient and understanding.** Mistakes can happen, so try to be reasonable and give the bakery a chance to rectify the situation.\n",
            "* **If necessary, escalate the issue.** If the staff is not cooperative or refuses to provide a replacement cake, you can contact the management or customer service department.\n"
          ]
        }
      ]
    }
  ]
}